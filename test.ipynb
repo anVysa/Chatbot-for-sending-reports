{
 "cells": [
  {
   "cell_type": "code",
   "execution_count": 1,
   "id": "81675cf3",
   "metadata": {},
   "outputs": [],
   "source": [
    "TOKEN = 'тест'"
   ]
  },
  {
   "cell_type": "code",
   "execution_count": 2,
   "id": "44364e74",
   "metadata": {},
   "outputs": [
    {
     "name": "stdout",
     "output_type": "stream",
     "text": [
      "тест\n",
      "test\n"
     ]
    }
   ],
   "source": [
    "print(TOKEN)\n",
    "print('test')"
   ]
  },
  {
   "cell_type": "code",
   "execution_count": null,
   "id": "5c001d30",
   "metadata": {},
   "outputs": [],
   "source": []
  }
 ],
 "metadata": {
  "kernelspec": {
   "display_name": "Python 3 (ipykernel)",
   "language": "python",
   "name": "python3"
  },
  "language_info": {
   "codemirror_mode": {
    "name": "ipython",
    "version": 3
   },
   "file_extension": ".py",
   "mimetype": "text/x-python",
   "name": "python",
   "nbconvert_exporter": "python",
   "pygments_lexer": "ipython3",
   "version": "3.11.5"
  }
 },
 "nbformat": 4,
 "nbformat_minor": 5
}
